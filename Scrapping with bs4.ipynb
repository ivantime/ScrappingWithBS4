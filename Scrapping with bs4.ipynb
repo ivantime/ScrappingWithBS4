{
 "cells": [
  {
   "cell_type": "markdown",
   "id": "6cd7469c",
   "metadata": {},
   "source": [
    "# Proxy Rotation (Note: Use EliteProxies)"
   ]
  },
  {
   "cell_type": "code",
   "execution_count": 27,
   "id": "7c4f2448",
   "metadata": {},
   "outputs": [],
   "source": [
    "import requests\n",
    "from bs4 import BeautifulSoup"
   ]
  },
  {
   "cell_type": "code",
   "execution_count": 3,
   "id": "c72b3048",
   "metadata": {
    "collapsed": true
   },
   "outputs": [
    {
     "name": "stdout",
     "output_type": "stream",
     "text": [
      "Trying proxy: https://47.240.160.90:10001\n",
      "Bad proxy...\n",
      "Trying proxy: https://195.158.30.232:3128\n",
      "Bad proxy...\n",
      "Trying proxy: https://5.161.105.105:80\n",
      "Bad proxy...\n",
      "Trying proxy: https://43.225.23.132:80\n",
      "Bad proxy...\n",
      "Trying proxy: https://150.136.108.121:3128\n",
      "Bad proxy...\n",
      "Trying proxy: https://85.25.91.141:15333\n",
      "Bad proxy...\n",
      "Trying proxy: https://85.195.104.71:80\n",
      "Bad proxy...\n",
      "Trying proxy: https://38.108.119.176:59394\n",
      "Bad proxy...\n",
      "Trying proxy: https://50.231.95.3:8080\n",
      "Bad proxy...\n",
      "Trying proxy: https://18.230.58.67:3128\n",
      "Bad proxy...\n",
      "Trying proxy: https://78.46.123.202:80\n",
      "Bad proxy...\n",
      "Trying proxy: https://5.189.184.6:80\n",
      "Bad proxy...\n",
      "Trying proxy: https://1.10.141.220:54620\n",
      "Bad proxy...\n",
      "Trying proxy: https://154.66.210.1:8080\n",
      "Bad proxy...\n",
      "Trying proxy: https://151.106.17.122:1080\n",
      "Bad proxy...\n",
      "Trying proxy: https://151.106.17.125:1080\n",
      "Bad proxy...\n",
      "Trying proxy: https://151.106.17.123:1080\n",
      "Bad proxy...\n"
     ]
    },
    {
     "ename": "AttributeError",
     "evalue": "'NoneType' object has no attribute 'json'",
     "output_type": "error",
     "traceback": [
      "\u001b[1;31m---------------------------------------------------------------------------\u001b[0m",
      "\u001b[1;31mAttributeError\u001b[0m                            Traceback (most recent call last)",
      "\u001b[1;32m~\\AppData\\Local\\Temp/ipykernel_13184/981177349.py\u001b[0m in \u001b[0;36m<module>\u001b[1;34m\u001b[0m\n\u001b[0;32m     33\u001b[0m     \u001b[0mres\u001b[0m \u001b[1;33m=\u001b[0m \u001b[0mfetch\u001b[0m\u001b[1;33m(\u001b[0m\u001b[1;34m'https://www.google.com/'\u001b[0m\u001b[1;33m,\u001b[0m \u001b[0mparams\u001b[0m\u001b[1;33m=\u001b[0m\u001b[0mparams\u001b[0m\u001b[1;33m)\u001b[0m\u001b[1;33m\u001b[0m\u001b[1;33m\u001b[0m\u001b[0m\n\u001b[0;32m     34\u001b[0m     \u001b[0mproxy_index\u001b[0m \u001b[1;33m+=\u001b[0m \u001b[1;36m1\u001b[0m\u001b[1;33m\u001b[0m\u001b[1;33m\u001b[0m\u001b[0m\n\u001b[1;32m---> 35\u001b[1;33m     \u001b[0mprint\u001b[0m\u001b[1;33m(\u001b[0m\u001b[1;34m'ip'\u001b[0m\u001b[1;33m,\u001b[0m \u001b[0mres\u001b[0m\u001b[1;33m.\u001b[0m\u001b[0mjson\u001b[0m\u001b[1;33m(\u001b[0m\u001b[1;33m)\u001b[0m\u001b[1;33m[\u001b[0m\u001b[1;34m'ip'\u001b[0m\u001b[1;33m]\u001b[0m\u001b[1;33m)\u001b[0m\u001b[1;33m\u001b[0m\u001b[1;33m\u001b[0m\u001b[0m\n\u001b[0m\u001b[0;32m     36\u001b[0m     \u001b[0mprint\u001b[0m\u001b[1;33m(\u001b[0m\u001b[1;34m'url:'\u001b[0m\u001b[1;33m,\u001b[0m \u001b[0mres\u001b[0m\u001b[1;33m.\u001b[0m\u001b[0mjson\u001b[0m\u001b[1;33m(\u001b[0m\u001b[1;33m)\u001b[0m\u001b[1;33m[\u001b[0m\u001b[1;34m'url'\u001b[0m\u001b[1;33m]\u001b[0m\u001b[1;33m)\u001b[0m\u001b[1;33m\u001b[0m\u001b[1;33m\u001b[0m\u001b[0m\n",
      "\u001b[1;31mAttributeError\u001b[0m: 'NoneType' object has no attribute 'json'"
     ]
    }
   ],
   "source": [
    "res = requests.get('https://free-proxy-list.net')\n",
    "content = BeautifulSoup(res.text, 'lxml')\n",
    "table = content.find('table')\n",
    "rows = table.find_all('tr')\n",
    "cols = [[col.text for col in row.find_all('td')] for row in rows]\n",
    "\n",
    "proxies = []\n",
    "proxy_index = 0\n",
    "\n",
    "for col in cols:\n",
    "    try:\n",
    "        if col[4] == 'elite proxy' and col[6] == 'yes':\n",
    "            proxies.append('https://' + col[0] + ':' + col[1])\n",
    "    except:\n",
    "        pass\n",
    "# print (proxies)\n",
    "\n",
    "def fetch(url, params):\n",
    "    global proxy_index\n",
    "    \n",
    "    while proxy_index < len(proxies):\n",
    "        try:\n",
    "            print('Trying proxy:', proxies[proxy_index])\n",
    "            res = requests.get(url, proxies={'https': proxies[proxy_index]}, params=params, timeout=5)\n",
    "            return res\n",
    "            \n",
    "        except:\n",
    "            print('Bad proxy...')\n",
    "            proxy_index += 1\n",
    "\n",
    "for page in range(0, 4):\n",
    "    params = {'page': page}\n",
    "    res = fetch('https://www.google.com/', params=params)\n",
    "    proxy_index += 1\n",
    "    print('ip', res.json()['ip'])\n",
    "    print('url:', res.json()['url'])  "
   ]
  },
  {
   "cell_type": "markdown",
   "id": "7cee9436",
   "metadata": {},
   "source": [
    "# Word Combinations (of 20 Words Given)"
   ]
  },
  {
   "cell_type": "code",
   "execution_count": 1,
   "id": "6be7aec9",
   "metadata": {},
   "outputs": [],
   "source": [
    "words2Scrap=[\"Table\", \"Fog\", \"Wikipedia\", \"Empire\", \"Ruin\", \"Era\", \"English\", \"Library\", \"Twin\", \"Tower\", \"Book\", \"Art\",\n",
    "             \"Science\", \"Poor\", \"Rich\", \"Dad\", \"Heart\", \"Power\", \"Medicine\", \"Borrow\" ]"
   ]
  },
  {
   "cell_type": "code",
   "execution_count": 2,
   "id": "68e11ad2",
   "metadata": {},
   "outputs": [],
   "source": [
    "from itertools import combinations\n",
    "\n",
    "#Source: https://stackoverflow.com/questions/464864/how-to-get-all-possible-combinations-of-a-list-s-elements#answer-32555776\n",
    "def combs(x):\n",
    "    return [c for i in range(len(x)+1) for c in combinations(x,i)]"
   ]
  },
  {
   "cell_type": "code",
   "execution_count": 3,
   "id": "622b3728",
   "metadata": {},
   "outputs": [],
   "source": [
    "lister= list(combs(words2Scrap))"
   ]
  },
  {
   "cell_type": "code",
   "execution_count": 4,
   "id": "726acc82",
   "metadata": {},
   "outputs": [
    {
     "data": {
      "text/plain": [
       "1048576"
      ]
     },
     "execution_count": 4,
     "metadata": {},
     "output_type": "execute_result"
    }
   ],
   "source": [
    "len(lister)"
   ]
  },
  {
   "cell_type": "code",
   "execution_count": 5,
   "id": "b6fb489e",
   "metadata": {},
   "outputs": [
    {
     "data": {
      "text/plain": [
       "0"
      ]
     },
     "execution_count": 5,
     "metadata": {},
     "output_type": "execute_result"
    }
   ],
   "source": [
    "len(lister[0])"
   ]
  },
  {
   "cell_type": "code",
   "execution_count": 6,
   "id": "6fd91a82",
   "metadata": {},
   "outputs": [],
   "source": [
    "def formatSearchTerm4url(typle,index):\n",
    "    searchTerm=\"\"\n",
    "    for i,d in enumerate(list(typle[index])):\n",
    "        if (i!=0):\n",
    "            searchTerm+=\"+\"+str(d)\n",
    "        else:\n",
    "            searchTerm=d\n",
    "    urlMain= f\"https://openlibrary.org/search?q=paper+trains&mode=everything\"\n",
    "    return urlMain\n"
   ]
  },
  {
   "cell_type": "code",
   "execution_count": 11,
   "id": "e1664c48",
   "metadata": {},
   "outputs": [],
   "source": [
    "# def getSearchTerm4url(typle,index):\n",
    "#     searchTerm=\"\"\n",
    "#     for i,d in enumerate(list(typle[index])):\n",
    "#         if (i!=0):\n",
    "#             searchTerm+=\"+\"+str(d)\n",
    "#         else:\n",
    "#             searchTerm=d\n",
    "#     return searchTerm"
   ]
  },
  {
   "cell_type": "code",
   "execution_count": 7,
   "id": "c847287d",
   "metadata": {},
   "outputs": [],
   "source": [
    "import requests\n",
    "from bs4 import BeautifulSoup\n",
    "\n",
    "def getLinksOfPageURL(lister, index,urls):\n",
    "    if (type(lister) is not str):\n",
    "        URL =formatSearchTerm4url(lister,index)\n",
    "        page = requests.get(URL)\n",
    "\n",
    "        soup = BeautifulSoup(page.content, \"html.parser\")\n",
    "        job_elements = soup.find(class_=\"pagination\")\n",
    "\n",
    "        page_no=0\n",
    "\n",
    "        if (lister[index]!=()):\n",
    "            pages= job_elements.find_all(class_=\"ChoosePage\",href=True)\n",
    "\n",
    "            print(f\"\\n\\n\\n\\n\\n\\nURL of Index {index}...\")\n",
    "#             try:\n",
    "            for indexPage,data in enumerate(pages):\n",
    "                if (indexPage==0):\n",
    "                    url=\"https://openlibrary.org\"+data['href'][:len(data['href'])-1]+\"1\"\n",
    "                    page_no=1\n",
    "                    print (\"Found URL:\", (url))\n",
    "                    urls.append(url)\n",
    "                else:\n",
    "                    try:\n",
    "                        url=\"https://openlibrary.org\"+data['href']\n",
    "                        print (\"Found URL:\",url )\n",
    "                        page_no=int(data.text)\n",
    "                        urls.append(url)\n",
    "                        print(len(urls))\n",
    "                    except:\n",
    "                        pass\n",
    "                    \n",
    "                    \n",
    "#             except:\n",
    "#                 print(\"except\",len(urls))\n",
    "#                 return urls\n",
    "\n",
    "            if (page_no!=0):\n",
    "                url=\"https://openlibrary.org\"+data['href'][:len(data['href'])-1]+str(page_no)\n",
    "                getLinksOfPageURL(url,page_no,urls)\n",
    "\n",
    "        else:\n",
    "            print(f\"NOTE: Lister's Index of {index} has ZERO elements!\")\n",
    "            return []\n",
    "##############\n",
    "    \n",
    "    else:\n",
    "        \n",
    "        page = requests.get(lister)\n",
    "        \n",
    "        print(\"Total Pages So Far: \", index)\n",
    "        page_no=index\n",
    "\n",
    "        try:\n",
    "            page = requests.get(lister)\n",
    "            soup = BeautifulSoup(page.content, \"html.parser\")\n",
    "            job_elements = soup.find(class_=\"pagination\")\n",
    "\n",
    "            pages= job_elements.find_all(class_=\"ChoosePage\",href=True)\n",
    "\n",
    "            print(f\"\\nFrom Page {index}...\")\n",
    "            for indexPage,data in enumerate(pages):\n",
    "                    if (\"Next\" in data.text or \"First\" in data.text or \"Previous\" in data.text):\n",
    "                        pass\n",
    "                    elif (int(data.text)>page_no):\n",
    "                        url=\"https://openlibrary.org\"+data['href']\n",
    "                        print (\"Found URL:\",url )\n",
    "                        urls.append(url)\n",
    "                        print(len(urls))\n",
    "                        page_no=int(data.text)\n",
    "\n",
    "            getLinksOfPageURL(url,page_no,urls)\n",
    "        except:\n",
    "            print(\"End Of the Line.... No More Next Page\")\n",
    "            print(urls)\n",
    "            return urls\n",
    "        return urls"
   ]
  },
  {
   "cell_type": "code",
   "execution_count": 45,
   "id": "ad72e628",
   "metadata": {},
   "outputs": [
    {
     "data": {
      "text/plain": [
       "'https://openlibrary.org/search?q=paper+trains&mode=everything'"
      ]
     },
     "execution_count": 45,
     "metadata": {},
     "output_type": "execute_result"
    }
   ],
   "source": [
    "formatSearchTerm4url(lister,0)"
   ]
  },
  {
   "cell_type": "code",
   "execution_count": 8,
   "id": "4a44b618",
   "metadata": {},
   "outputs": [
    {
     "name": "stdout",
     "output_type": "stream",
     "text": [
      "NOTE: Lister's Index of 0 has ZERO elements!\n",
      "TOTAL LENGTH OF URLS COLLECTED::: 1\n",
      "\n",
      "\n",
      "\n",
      "\n",
      "\n",
      "\n",
      "URL of Index 1...\n",
      "Found URL: https://openlibrary.org/search?q=paper+trains&mode=everything&page=1\n",
      "Found URL: https://openlibrary.org/search?q=paper+trains&mode=everything&page=3\n",
      "3\n",
      "Found URL: https://openlibrary.org/search?q=paper+trains&mode=everything&page=4\n",
      "4\n",
      "Found URL: https://openlibrary.org/search?q=paper+trains&mode=everything&page=5\n",
      "5\n",
      "Found URL: https://openlibrary.org/search?q=paper+trains&mode=everything&page=6\n",
      "6\n",
      "Found URL: https://openlibrary.org/search?q=paper+trains&mode=everything&page=7\n",
      "7\n",
      "Found URL: https://openlibrary.org/search?q=paper+trains&mode=everything&page=8\n",
      "8\n",
      "Found URL: https://openlibrary.org/search?q=paper+trains&mode=everything&page=9\n",
      "9\n",
      "Found URL: https://openlibrary.org/search?q=paper+trains&mode=everything&page=10\n",
      "10\n",
      "Found URL: https://openlibrary.org/search?q=paper+trains&mode=everything&page=2\n",
      "Total Pages So Far:  10\n",
      "\n",
      "From Page 10...\n",
      "Found URL: https://openlibrary.org/search?q=paper+trains&page=11&mode=everything\n",
      "11\n",
      "Found URL: https://openlibrary.org/search?q=paper+trains&page=12&mode=everything\n",
      "12\n",
      "Found URL: https://openlibrary.org/search?q=paper+trains&page=13&mode=everything\n",
      "13\n",
      "Found URL: https://openlibrary.org/search?q=paper+trains&page=14&mode=everything\n",
      "14\n",
      "Found URL: https://openlibrary.org/search?q=paper+trains&page=15&mode=everything\n",
      "15\n",
      "Total Pages So Far:  15\n",
      "\n",
      "From Page 15...\n",
      "Found URL: https://openlibrary.org/search?q=paper+trains&page=16&mode=everything\n",
      "16\n",
      "Found URL: https://openlibrary.org/search?q=paper+trains&page=17&mode=everything\n",
      "17\n",
      "Found URL: https://openlibrary.org/search?q=paper+trains&page=18&mode=everything\n",
      "18\n",
      "Found URL: https://openlibrary.org/search?q=paper+trains&page=19&mode=everything\n",
      "19\n",
      "Found URL: https://openlibrary.org/search?q=paper+trains&page=20&mode=everything\n",
      "20\n",
      "End Of the Line.... No More Next Page\n",
      "[[], 'https://openlibrary.org/search?q=paper+trains&mode=everything&page=1', 'https://openlibrary.org/search?q=paper+trains&mode=everything&page=3', 'https://openlibrary.org/search?q=paper+trains&mode=everything&page=4', 'https://openlibrary.org/search?q=paper+trains&mode=everything&page=5', 'https://openlibrary.org/search?q=paper+trains&mode=everything&page=6', 'https://openlibrary.org/search?q=paper+trains&mode=everything&page=7', 'https://openlibrary.org/search?q=paper+trains&mode=everything&page=8', 'https://openlibrary.org/search?q=paper+trains&mode=everything&page=9', 'https://openlibrary.org/search?q=paper+trains&mode=everything&page=10', 'https://openlibrary.org/search?q=paper+trains&page=11&mode=everything', 'https://openlibrary.org/search?q=paper+trains&page=12&mode=everything', 'https://openlibrary.org/search?q=paper+trains&page=13&mode=everything', 'https://openlibrary.org/search?q=paper+trains&page=14&mode=everything', 'https://openlibrary.org/search?q=paper+trains&page=15&mode=everything', 'https://openlibrary.org/search?q=paper+trains&page=16&mode=everything', 'https://openlibrary.org/search?q=paper+trains&page=17&mode=everything', 'https://openlibrary.org/search?q=paper+trains&page=18&mode=everything', 'https://openlibrary.org/search?q=paper+trains&page=19&mode=everything', 'https://openlibrary.org/search?q=paper+trains&page=20&mode=everything']\n",
      "TOTAL LENGTH OF URLS COLLECTED::: 21\n"
     ]
    }
   ],
   "source": [
    "urlFile=[]\n",
    "for i in range(0,len(lister)):\n",
    "    urlFile.append(getLinksOfPageURL(lister,i,urlFile))\n",
    "    print(\"TOTAL LENGTH OF URLS COLLECTED:::\",len(urlFile))\n",
    "    if (i==1): break\n",
    "        \n",
    "#NOTE: total 2865 pages"
   ]
  },
  {
   "cell_type": "code",
   "execution_count": 48,
   "id": "1c0ce6bf",
   "metadata": {},
   "outputs": [],
   "source": [
    "import numpy\n",
    "a = numpy.asarray(urlFile)\n",
    "numpy.savetxt(f\"URLScrapedKeyWords_WITH_{len(urlFile)}_links.csv\", a, delimiter=\",\", fmt='%s')"
   ]
  },
  {
   "cell_type": "code",
   "execution_count": null,
   "id": "719194ab",
   "metadata": {},
   "outputs": [],
   "source": [
    "# import requests\n",
    "# from bs4 import BeautifulSoup\n",
    "\n",
    "# def getLinksOfPageURL(lister, index):\n",
    "#     urls=[]\n",
    "    \n",
    "#     #if Lister array of Index is not empty\n",
    "#     if (len(lister[index])!=0):\n",
    "#         URL =formatSearchTerm4url(lister,index)\n",
    "#         page = requests.get(URL)\n",
    "\n",
    "#         soup = BeautifulSoup(page.content, \"html.parser\")\n",
    "#         job_elements = soup.find(class_=\"pagination\")\n",
    "\n",
    "#         try:\n",
    "#             for indexPage,data in enumerate(pages):\n",
    "#                     print (\"Possible URLs found...)\n",
    "#                     break\n",
    "            \n",
    "#             count=1\n",
    "#             url= f\"https://openlibrary.org/search?mode=everythin12&q={getSearchTerm4url(lister,index)}&page=\"+count\n",
    "#             if (len(lister[index])!=0):\n",
    "#                 pages= job_elements.find_all(class_=\"ChoosePage\",href=True)\n",
    "\n",
    "#                 print(f\"\\n\\n\\nURL of Index {index}...\")\n",
    "#                 url=\"\"\n",
    "\n",
    "                \n",
    "\n",
    "#                 url=\"https://openlibrary.org\"+data['href']\n",
    "#                 print (\"Found URL:\",url )\n",
    "#                 urls.append(url)\n",
    "#                 page_no=data.text\n",
    "\n",
    "#                 page_no=str(int(page_no)+1)\n",
    "#                 url=\"https://openlibrary.org\"+data['href'][:len(data['href'])-1]+(page_no)\n",
    "#     #                 try:\n",
    "#                 urls+=getLinksOfPageURL(url,int(page_no))\n",
    "           \n",
    "#         except:\n",
    "#             print(\"No other Pages for URL:\",formatSearchTerm4url(lister,index))\n",
    "#             urls.append(formatSearchTerm4url(lister,index))\n",
    "#             return urls\n",
    "        \n",
    "        \n",
    "#      else:\n",
    "#         print(f\"NOTE: Lister's Index of {index} has ZERO elements!\")"
   ]
  },
  {
   "cell_type": "code",
   "execution_count": null,
   "id": "ae9b3bd4",
   "metadata": {},
   "outputs": [],
   "source": []
  }
 ],
 "metadata": {
  "kernelspec": {
   "display_name": "Python 3 (ipykernel)",
   "language": "python",
   "name": "python3"
  },
  "language_info": {
   "codemirror_mode": {
    "name": "ipython",
    "version": 3
   },
   "file_extension": ".py",
   "mimetype": "text/x-python",
   "name": "python",
   "nbconvert_exporter": "python",
   "pygments_lexer": "ipython3",
   "version": "3.9.7"
  }
 },
 "nbformat": 4,
 "nbformat_minor": 5
}
